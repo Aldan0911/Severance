{
 "cells": [
  {
   "cell_type": "code",
   "execution_count": 1,
   "metadata": {},
   "outputs": [],
   "source": [
    "import pydicom\n",
    "from PIL import Image\n",
    "import numpy as np "
   ]
  },
  {
   "cell_type": "code",
   "execution_count": null,
   "metadata": {},
   "outputs": [],
   "source": [
    "def dicom_to_jpeg (dicom_filepath, jpeg_filepath):\n",
    "    # Read the DICOM file\n",
    "    ds = pydicom.dcmread(dicom_filepath)\n",
    "\n",
    "    # Access the pixel data array\n",
    "    pixel_array = ds.pixel_array\n",
    "\n",
    "    # Normalize the pixel array to 0-255 for 8-bit image format (JPEG)\n",
    "    pixel_array = (np.maximum(pixel_array, 0) / pixel_array.max()) * 255.0\n",
    "\n",
    "    # Convert to uint8 data type\n",
    "    pixel_array = np.uint8(pixel_array)\n",
    "\n",
    "    # Create an Image object from the array\n",
    "    image = Image.fromarray(pixel_array)\n",
    "\n",
    "    # Save the image as JPEG\n",
    "    image.save(jpeg_filepath)\n",
    "\n",
    "# Usage\n",
    "dicom_file = 'path_to_your_dicom_file.dcm'  # Replace with your DICOM file path\n",
    "jpeg_file = 'output_file_name.jpg'          # Replace with your desired JPEG file path\n",
    "dicom_to_jpeg(dicom_file, jpeg_file)\n"
   ]
  }
 ],
 "metadata": {
  "kernelspec": {
   "display_name": "Python 3",
   "language": "python",
   "name": "python3"
  },
  "language_info": {
   "codemirror_mode": {
    "name": "ipython",
    "version": 3
   },
   "file_extension": ".py",
   "mimetype": "text/x-python",
   "name": "python",
   "nbconvert_exporter": "python",
   "pygments_lexer": "ipython3",
   "version": "3.12.0"
  }
 },
 "nbformat": 4,
 "nbformat_minor": 2
}
