{
 "cells": [
  {
   "cell_type": "markdown",
   "metadata": {},
   "source": [
    "2FDATA_ test train"
   ]
  },
  {
   "cell_type": "code",
   "execution_count": null,
   "metadata": {},
   "outputs": [],
   "source": [
    "r\"C:\\Users\\user\\Desktop\\vsc\\Severance_Hospital\\12.19_정현도_alpha_feature\\pre\\2FDATA_clinical_train.csv\""
   ]
  },
  {
   "cell_type": "code",
   "execution_count": null,
   "metadata": {},
   "outputs": [],
   "source": [
    "r\"C:\\Users\\user\\Desktop\\vsc\\Severance_Hospital\\12.19_정현도_alpha_feature\\pre\\2FDATA_clinical_test.csv\""
   ]
  },
  {
   "cell_type": "markdown",
   "metadata": {},
   "source": [
    "clinical immunologic"
   ]
  },
  {
   "cell_type": "code",
   "execution_count": null,
   "metadata": {},
   "outputs": [],
   "source": [
    "r\"C:\\Users\\user\\Desktop\\vsc\\Severance_Hospital\\12.19_정현도_alpha_feature\\pre\\clinical_immunologic.xlsx\""
   ]
  },
  {
   "cell_type": "markdown",
   "metadata": {},
   "source": [
    "Pre_2B_GAUS - 39-33"
   ]
  },
  {
   "cell_type": "code",
   "execution_count": null,
   "metadata": {},
   "outputs": [],
   "source": [
    "r\"C:\\Users\\user\\Desktop\\vsc\\Severance_Hospital\\12.19_정현도_alpha_feature\\pre\\FDATA_Pre_2B_GAUS_NORM_RESAMPLE000_5Sig_2023-12-17-19-39-33_radiomics_features_ALL.csv\""
   ]
  },
  {
   "cell_type": "markdown",
   "metadata": {},
   "source": [
    "Post_2B_GAUS_53-59"
   ]
  },
  {
   "cell_type": "code",
   "execution_count": null,
   "metadata": {},
   "outputs": [],
   "source": [
    "r\"C:\\Users\\user\\Desktop\\vsc\\Severance_Hospital\\12.19_정현도_alpha_feature\\FDATA_Post_2B_GAUS_NORM_RESAMPLE000_5Sig_2023-12-17-19-53-59_radiomics_features_ALL.csv\""
   ]
  },
  {
   "cell_type": "markdown",
   "metadata": {},
   "source": [
    "FDATA_Delta"
   ]
  },
  {
   "cell_type": "code",
   "execution_count": null,
   "metadata": {},
   "outputs": [],
   "source": [
    "r\"C:\\Users\\user\\Desktop\\vsc\\Severance_Hospital\\12.19_정현도_alpha_feature\\FDATA_DELTA.csv\""
   ]
  }
 ],
 "metadata": {
  "language_info": {
   "name": "python"
  }
 },
 "nbformat": 4,
 "nbformat_minor": 2
}
